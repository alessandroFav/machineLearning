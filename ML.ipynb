{
 "cells": [
  {
   "cell_type": "code",
   "execution_count": 1,
   "metadata": {},
   "outputs": [],
   "source": [
    "import pandas as pd\n",
    "import numpy as np\n",
    "import random as rnd\n",
    "\n",
    "import seaborn as sns\n",
    "import matplotlib.pyplot as plt\n",
    "\n",
    "from sklearn.linear_model import LogisticRegression\n",
    "from sklearn.svm import SVC, LinearSVC\n",
    "from sklearn.ensemble import RandomForestClassifier\n",
    "from sklearn.neighbors import KNeighborsClassifier\n",
    "from sklearn.naive_bayes import GaussianNB\n",
    "from sklearn.linear_model import Perceptron\n",
    "from sklearn.linear_model import SGDClassifier\n",
    "from sklearn.tree import DecisionTreeClassifier\n",
    "from sklearn.metrics import accuracy_score\n",
    "from sklearn.model_selection import train_test_split"
   ]
  },
  {
   "cell_type": "code",
   "execution_count": 6,
   "metadata": {},
   "outputs": [],
   "source": [
    "DataDiabets = pd.read_csv(\"dSetDiabets.csv\")\n",
    "DataDiabets.rename(columns={\n",
    "    \"Diabetes_012\":     \"Diabetico\",\n",
    "    \"HighBP\":     \"Iperteso\",\n",
    "    \"HighChol\":     \"Colesterolo\",\n",
    "    \"CholCheck\":     \"ControlloColesterolo\",\n",
    "    \"Smoker\":     \"Fumatore\",\n",
    "    \"Stroke\":     \"Infarto\",\n",
    "    \"HeartDiseaseorAttack\":     \"ProblemiCardiaci\",\n",
    "    \"PhysActivity\":     \"AttivitàFisica\",\n",
    "    \"HvyAlcoholConsump\":     \"ConsumoAlcol\",\n",
    "    \"GenHlth\":     \"SaluteGenerale\",\n",
    "    \"MentHlth\":     \"SaluteMentale\",\n",
    "    \"PhysHlth\":     \"SaluteFisica\",\n",
    "    \"DiffWalk\":     \"DifficolàSportiva\",\n",
    "    },inplace=True)\n",
    "\n",
    "trainTest, TestSet = train_test_split(DataDiabets)\n",
    "combine = [trainTest, TestSet]"
   ]
  },
  {
   "cell_type": "code",
   "execution_count": 7,
   "metadata": {},
   "outputs": [
    {
     "data": {
      "text/plain": [
       "Diabetico               0\n",
       "Iperteso                0\n",
       "Colesterolo             0\n",
       "ControlloColesterolo    0\n",
       "BMI                     0\n",
       "Fumatore                0\n",
       "Infarto                 0\n",
       "ProblemiCardiaci        0\n",
       "AttivitàFisica          0\n",
       "Fruits                  0\n",
       "Veggies                 0\n",
       "ConsumoAlcol            0\n",
       "AnyHealthcare           0\n",
       "NoDocbcCost             0\n",
       "SaluteGenerale          0\n",
       "SaluteMentale           0\n",
       "SaluteFisica            0\n",
       "DifficolàSportiva       0\n",
       "Sex                     0\n",
       "Age                     0\n",
       "Education               0\n",
       "Income                  0\n",
       "dtype: int64"
      ]
     },
     "execution_count": 7,
     "metadata": {},
     "output_type": "execute_result"
    }
   ],
   "source": [
    "trainTest.isnull().sum()"
   ]
  },
  {
   "cell_type": "code",
   "execution_count": 8,
   "metadata": {},
   "outputs": [
    {
     "data": {
      "text/plain": [
       "Diabetico               0\n",
       "Iperteso                0\n",
       "Colesterolo             0\n",
       "ControlloColesterolo    0\n",
       "BMI                     0\n",
       "Fumatore                0\n",
       "Infarto                 0\n",
       "ProblemiCardiaci        0\n",
       "AttivitàFisica          0\n",
       "Fruits                  0\n",
       "Veggies                 0\n",
       "ConsumoAlcol            0\n",
       "AnyHealthcare           0\n",
       "NoDocbcCost             0\n",
       "SaluteGenerale          0\n",
       "SaluteMentale           0\n",
       "SaluteFisica            0\n",
       "DifficolàSportiva       0\n",
       "Sex                     0\n",
       "Age                     0\n",
       "Education               0\n",
       "Income                  0\n",
       "dtype: int64"
      ]
     },
     "execution_count": 8,
     "metadata": {},
     "output_type": "execute_result"
    }
   ],
   "source": [
    "TestSet.isnull().sum()"
   ]
  },
  {
   "cell_type": "code",
   "execution_count": 9,
   "metadata": {},
   "outputs": [
    {
     "name": "stdout",
     "output_type": "stream",
     "text": [
      "['Diabetico' 'Iperteso' 'Colesterolo' 'ControlloColesterolo' 'BMI'\n",
      " 'Fumatore' 'Infarto' 'ProblemiCardiaci' 'AttivitàFisica' 'Fruits'\n",
      " 'Veggies' 'ConsumoAlcol' 'AnyHealthcare' 'NoDocbcCost' 'SaluteGenerale'\n",
      " 'SaluteMentale' 'SaluteFisica' 'DifficolàSportiva' 'Sex' 'Age'\n",
      " 'Education' 'Income']\n"
     ]
    },
    {
     "data": {
      "text/html": [
       "<div>\n",
       "<style scoped>\n",
       "    .dataframe tbody tr th:only-of-type {\n",
       "        vertical-align: middle;\n",
       "    }\n",
       "\n",
       "    .dataframe tbody tr th {\n",
       "        vertical-align: top;\n",
       "    }\n",
       "\n",
       "    .dataframe thead th {\n",
       "        text-align: right;\n",
       "    }\n",
       "</style>\n",
       "<table border=\"1\" class=\"dataframe\">\n",
       "  <thead>\n",
       "    <tr style=\"text-align: right;\">\n",
       "      <th></th>\n",
       "      <th>Diabetico</th>\n",
       "      <th>Iperteso</th>\n",
       "      <th>Colesterolo</th>\n",
       "      <th>ControlloColesterolo</th>\n",
       "      <th>BMI</th>\n",
       "      <th>Fumatore</th>\n",
       "      <th>Infarto</th>\n",
       "      <th>ProblemiCardiaci</th>\n",
       "      <th>AttivitàFisica</th>\n",
       "      <th>Fruits</th>\n",
       "      <th>...</th>\n",
       "      <th>AnyHealthcare</th>\n",
       "      <th>NoDocbcCost</th>\n",
       "      <th>SaluteGenerale</th>\n",
       "      <th>SaluteMentale</th>\n",
       "      <th>SaluteFisica</th>\n",
       "      <th>DifficolàSportiva</th>\n",
       "      <th>Sex</th>\n",
       "      <th>Age</th>\n",
       "      <th>Education</th>\n",
       "      <th>Income</th>\n",
       "    </tr>\n",
       "  </thead>\n",
       "  <tbody>\n",
       "    <tr>\n",
       "      <th>61003</th>\n",
       "      <td>0.0</td>\n",
       "      <td>1.0</td>\n",
       "      <td>1.0</td>\n",
       "      <td>1.0</td>\n",
       "      <td>31.0</td>\n",
       "      <td>0.0</td>\n",
       "      <td>0.0</td>\n",
       "      <td>1.0</td>\n",
       "      <td>1.0</td>\n",
       "      <td>1.0</td>\n",
       "      <td>...</td>\n",
       "      <td>1.0</td>\n",
       "      <td>0.0</td>\n",
       "      <td>3.0</td>\n",
       "      <td>0.0</td>\n",
       "      <td>0.0</td>\n",
       "      <td>0.0</td>\n",
       "      <td>1.0</td>\n",
       "      <td>9.0</td>\n",
       "      <td>5.0</td>\n",
       "      <td>7.0</td>\n",
       "    </tr>\n",
       "    <tr>\n",
       "      <th>81818</th>\n",
       "      <td>0.0</td>\n",
       "      <td>0.0</td>\n",
       "      <td>0.0</td>\n",
       "      <td>0.0</td>\n",
       "      <td>21.0</td>\n",
       "      <td>1.0</td>\n",
       "      <td>0.0</td>\n",
       "      <td>0.0</td>\n",
       "      <td>1.0</td>\n",
       "      <td>1.0</td>\n",
       "      <td>...</td>\n",
       "      <td>1.0</td>\n",
       "      <td>0.0</td>\n",
       "      <td>2.0</td>\n",
       "      <td>1.0</td>\n",
       "      <td>0.0</td>\n",
       "      <td>0.0</td>\n",
       "      <td>0.0</td>\n",
       "      <td>4.0</td>\n",
       "      <td>5.0</td>\n",
       "      <td>6.0</td>\n",
       "    </tr>\n",
       "    <tr>\n",
       "      <th>221127</th>\n",
       "      <td>0.0</td>\n",
       "      <td>1.0</td>\n",
       "      <td>1.0</td>\n",
       "      <td>1.0</td>\n",
       "      <td>25.0</td>\n",
       "      <td>0.0</td>\n",
       "      <td>0.0</td>\n",
       "      <td>1.0</td>\n",
       "      <td>1.0</td>\n",
       "      <td>1.0</td>\n",
       "      <td>...</td>\n",
       "      <td>1.0</td>\n",
       "      <td>0.0</td>\n",
       "      <td>3.0</td>\n",
       "      <td>12.0</td>\n",
       "      <td>10.0</td>\n",
       "      <td>0.0</td>\n",
       "      <td>0.0</td>\n",
       "      <td>8.0</td>\n",
       "      <td>3.0</td>\n",
       "      <td>5.0</td>\n",
       "    </tr>\n",
       "    <tr>\n",
       "      <th>218327</th>\n",
       "      <td>0.0</td>\n",
       "      <td>1.0</td>\n",
       "      <td>0.0</td>\n",
       "      <td>1.0</td>\n",
       "      <td>31.0</td>\n",
       "      <td>0.0</td>\n",
       "      <td>0.0</td>\n",
       "      <td>1.0</td>\n",
       "      <td>1.0</td>\n",
       "      <td>1.0</td>\n",
       "      <td>...</td>\n",
       "      <td>1.0</td>\n",
       "      <td>0.0</td>\n",
       "      <td>4.0</td>\n",
       "      <td>0.0</td>\n",
       "      <td>30.0</td>\n",
       "      <td>1.0</td>\n",
       "      <td>1.0</td>\n",
       "      <td>12.0</td>\n",
       "      <td>5.0</td>\n",
       "      <td>5.0</td>\n",
       "    </tr>\n",
       "    <tr>\n",
       "      <th>62961</th>\n",
       "      <td>0.0</td>\n",
       "      <td>0.0</td>\n",
       "      <td>1.0</td>\n",
       "      <td>1.0</td>\n",
       "      <td>27.0</td>\n",
       "      <td>1.0</td>\n",
       "      <td>0.0</td>\n",
       "      <td>0.0</td>\n",
       "      <td>1.0</td>\n",
       "      <td>1.0</td>\n",
       "      <td>...</td>\n",
       "      <td>1.0</td>\n",
       "      <td>0.0</td>\n",
       "      <td>2.0</td>\n",
       "      <td>2.0</td>\n",
       "      <td>0.0</td>\n",
       "      <td>0.0</td>\n",
       "      <td>1.0</td>\n",
       "      <td>5.0</td>\n",
       "      <td>5.0</td>\n",
       "      <td>7.0</td>\n",
       "    </tr>\n",
       "  </tbody>\n",
       "</table>\n",
       "<p>5 rows × 22 columns</p>\n",
       "</div>"
      ],
      "text/plain": [
       "        Diabetico  Iperteso  Colesterolo  ControlloColesterolo   BMI   \n",
       "61003         0.0       1.0          1.0                   1.0  31.0  \\\n",
       "81818         0.0       0.0          0.0                   0.0  21.0   \n",
       "221127        0.0       1.0          1.0                   1.0  25.0   \n",
       "218327        0.0       1.0          0.0                   1.0  31.0   \n",
       "62961         0.0       0.0          1.0                   1.0  27.0   \n",
       "\n",
       "        Fumatore  Infarto  ProblemiCardiaci  AttivitàFisica  Fruits  ...   \n",
       "61003        0.0      0.0               1.0             1.0     1.0  ...  \\\n",
       "81818        1.0      0.0               0.0             1.0     1.0  ...   \n",
       "221127       0.0      0.0               1.0             1.0     1.0  ...   \n",
       "218327       0.0      0.0               1.0             1.0     1.0  ...   \n",
       "62961        1.0      0.0               0.0             1.0     1.0  ...   \n",
       "\n",
       "        AnyHealthcare  NoDocbcCost  SaluteGenerale  SaluteMentale   \n",
       "61003             1.0          0.0             3.0            0.0  \\\n",
       "81818             1.0          0.0             2.0            1.0   \n",
       "221127            1.0          0.0             3.0           12.0   \n",
       "218327            1.0          0.0             4.0            0.0   \n",
       "62961             1.0          0.0             2.0            2.0   \n",
       "\n",
       "        SaluteFisica  DifficolàSportiva  Sex   Age  Education  Income  \n",
       "61003            0.0                0.0  1.0   9.0        5.0     7.0  \n",
       "81818            0.0                0.0  0.0   4.0        5.0     6.0  \n",
       "221127          10.0                0.0  0.0   8.0        3.0     5.0  \n",
       "218327          30.0                1.0  1.0  12.0        5.0     5.0  \n",
       "62961            0.0                0.0  1.0   5.0        5.0     7.0  \n",
       "\n",
       "[5 rows x 22 columns]"
      ]
     },
     "execution_count": 9,
     "metadata": {},
     "output_type": "execute_result"
    }
   ],
   "source": [
    "print(trainTest.columns.values)\n",
    "trainTest.head()"
   ]
  },
  {
   "cell_type": "code",
   "execution_count": 10,
   "metadata": {},
   "outputs": [
    {
     "name": "stdout",
     "output_type": "stream",
     "text": [
      "<class 'pandas.core.frame.DataFrame'>\n",
      "Index: 63420 entries, 11387 to 106980\n",
      "Data columns (total 22 columns):\n",
      " #   Column                Non-Null Count  Dtype  \n",
      "---  ------                --------------  -----  \n",
      " 0   Diabetico             63420 non-null  float64\n",
      " 1   Iperteso              63420 non-null  float64\n",
      " 2   Colesterolo           63420 non-null  float64\n",
      " 3   ControlloColesterolo  63420 non-null  float64\n",
      " 4   BMI                   63420 non-null  float64\n",
      " 5   Fumatore              63420 non-null  float64\n",
      " 6   Infarto               63420 non-null  float64\n",
      " 7   ProblemiCardiaci      63420 non-null  float64\n",
      " 8   AttivitàFisica        63420 non-null  float64\n",
      " 9   Fruits                63420 non-null  float64\n",
      " 10  Veggies               63420 non-null  float64\n",
      " 11  ConsumoAlcol          63420 non-null  float64\n",
      " 12  AnyHealthcare         63420 non-null  float64\n",
      " 13  NoDocbcCost           63420 non-null  float64\n",
      " 14  SaluteGenerale        63420 non-null  float64\n",
      " 15  SaluteMentale         63420 non-null  float64\n",
      " 16  SaluteFisica          63420 non-null  float64\n",
      " 17  DifficolàSportiva     63420 non-null  float64\n",
      " 18  Sex                   63420 non-null  float64\n",
      " 19  Age                   63420 non-null  float64\n",
      " 20  Education             63420 non-null  float64\n",
      " 21  Income                63420 non-null  float64\n",
      "dtypes: float64(22)\n",
      "memory usage: 11.1 MB\n",
      "________________________________________\n"
     ]
    }
   ],
   "source": [
    "TestSet.info()\n",
    "print('_'*40)"
   ]
  },
  {
   "cell_type": "code",
   "execution_count": 11,
   "metadata": {},
   "outputs": [
    {
     "data": {
      "text/html": [
       "<div>\n",
       "<style scoped>\n",
       "    .dataframe tbody tr th:only-of-type {\n",
       "        vertical-align: middle;\n",
       "    }\n",
       "\n",
       "    .dataframe tbody tr th {\n",
       "        vertical-align: top;\n",
       "    }\n",
       "\n",
       "    .dataframe thead th {\n",
       "        text-align: right;\n",
       "    }\n",
       "</style>\n",
       "<table border=\"1\" class=\"dataframe\">\n",
       "  <thead>\n",
       "    <tr style=\"text-align: right;\">\n",
       "      <th></th>\n",
       "      <th>Diabetico</th>\n",
       "      <th>Iperteso</th>\n",
       "      <th>Colesterolo</th>\n",
       "      <th>ControlloColesterolo</th>\n",
       "      <th>BMI</th>\n",
       "      <th>Fumatore</th>\n",
       "      <th>Infarto</th>\n",
       "      <th>ProblemiCardiaci</th>\n",
       "      <th>AttivitàFisica</th>\n",
       "      <th>Fruits</th>\n",
       "      <th>...</th>\n",
       "      <th>AnyHealthcare</th>\n",
       "      <th>NoDocbcCost</th>\n",
       "      <th>SaluteGenerale</th>\n",
       "      <th>SaluteMentale</th>\n",
       "      <th>SaluteFisica</th>\n",
       "      <th>DifficolàSportiva</th>\n",
       "      <th>Sex</th>\n",
       "      <th>Age</th>\n",
       "      <th>Education</th>\n",
       "      <th>Income</th>\n",
       "    </tr>\n",
       "  </thead>\n",
       "  <tbody>\n",
       "    <tr>\n",
       "      <th>count</th>\n",
       "      <td>190260.000000</td>\n",
       "      <td>190260.000000</td>\n",
       "      <td>190260.000000</td>\n",
       "      <td>190260.000000</td>\n",
       "      <td>190260.000000</td>\n",
       "      <td>190260.000000</td>\n",
       "      <td>190260.000000</td>\n",
       "      <td>190260.000000</td>\n",
       "      <td>190260.000000</td>\n",
       "      <td>190260.000000</td>\n",
       "      <td>...</td>\n",
       "      <td>190260.000000</td>\n",
       "      <td>190260.000000</td>\n",
       "      <td>190260.000000</td>\n",
       "      <td>190260.000000</td>\n",
       "      <td>190260.000000</td>\n",
       "      <td>190260.000000</td>\n",
       "      <td>190260.000000</td>\n",
       "      <td>190260.000000</td>\n",
       "      <td>190260.000000</td>\n",
       "      <td>190260.000000</td>\n",
       "    </tr>\n",
       "    <tr>\n",
       "      <th>mean</th>\n",
       "      <td>0.297246</td>\n",
       "      <td>0.428188</td>\n",
       "      <td>0.423820</td>\n",
       "      <td>0.962725</td>\n",
       "      <td>28.382619</td>\n",
       "      <td>0.443220</td>\n",
       "      <td>0.040597</td>\n",
       "      <td>0.094718</td>\n",
       "      <td>0.757011</td>\n",
       "      <td>0.634831</td>\n",
       "      <td>...</td>\n",
       "      <td>0.951083</td>\n",
       "      <td>0.084248</td>\n",
       "      <td>2.513024</td>\n",
       "      <td>3.175512</td>\n",
       "      <td>4.244176</td>\n",
       "      <td>0.168427</td>\n",
       "      <td>0.440234</td>\n",
       "      <td>8.028414</td>\n",
       "      <td>5.050215</td>\n",
       "      <td>6.050872</td>\n",
       "    </tr>\n",
       "    <tr>\n",
       "      <th>std</th>\n",
       "      <td>0.698364</td>\n",
       "      <td>0.494817</td>\n",
       "      <td>0.494164</td>\n",
       "      <td>0.189436</td>\n",
       "      <td>6.608072</td>\n",
       "      <td>0.496767</td>\n",
       "      <td>0.197355</td>\n",
       "      <td>0.292825</td>\n",
       "      <td>0.428889</td>\n",
       "      <td>0.481479</td>\n",
       "      <td>...</td>\n",
       "      <td>0.215696</td>\n",
       "      <td>0.277760</td>\n",
       "      <td>1.068012</td>\n",
       "      <td>7.401539</td>\n",
       "      <td>8.722217</td>\n",
       "      <td>0.374246</td>\n",
       "      <td>0.496417</td>\n",
       "      <td>3.053777</td>\n",
       "      <td>0.986041</td>\n",
       "      <td>2.071185</td>\n",
       "    </tr>\n",
       "    <tr>\n",
       "      <th>min</th>\n",
       "      <td>0.000000</td>\n",
       "      <td>0.000000</td>\n",
       "      <td>0.000000</td>\n",
       "      <td>0.000000</td>\n",
       "      <td>12.000000</td>\n",
       "      <td>0.000000</td>\n",
       "      <td>0.000000</td>\n",
       "      <td>0.000000</td>\n",
       "      <td>0.000000</td>\n",
       "      <td>0.000000</td>\n",
       "      <td>...</td>\n",
       "      <td>0.000000</td>\n",
       "      <td>0.000000</td>\n",
       "      <td>1.000000</td>\n",
       "      <td>0.000000</td>\n",
       "      <td>0.000000</td>\n",
       "      <td>0.000000</td>\n",
       "      <td>0.000000</td>\n",
       "      <td>1.000000</td>\n",
       "      <td>1.000000</td>\n",
       "      <td>1.000000</td>\n",
       "    </tr>\n",
       "    <tr>\n",
       "      <th>25%</th>\n",
       "      <td>0.000000</td>\n",
       "      <td>0.000000</td>\n",
       "      <td>0.000000</td>\n",
       "      <td>1.000000</td>\n",
       "      <td>24.000000</td>\n",
       "      <td>0.000000</td>\n",
       "      <td>0.000000</td>\n",
       "      <td>0.000000</td>\n",
       "      <td>1.000000</td>\n",
       "      <td>0.000000</td>\n",
       "      <td>...</td>\n",
       "      <td>1.000000</td>\n",
       "      <td>0.000000</td>\n",
       "      <td>2.000000</td>\n",
       "      <td>0.000000</td>\n",
       "      <td>0.000000</td>\n",
       "      <td>0.000000</td>\n",
       "      <td>0.000000</td>\n",
       "      <td>6.000000</td>\n",
       "      <td>4.000000</td>\n",
       "      <td>5.000000</td>\n",
       "    </tr>\n",
       "    <tr>\n",
       "      <th>50%</th>\n",
       "      <td>0.000000</td>\n",
       "      <td>0.000000</td>\n",
       "      <td>0.000000</td>\n",
       "      <td>1.000000</td>\n",
       "      <td>27.000000</td>\n",
       "      <td>0.000000</td>\n",
       "      <td>0.000000</td>\n",
       "      <td>0.000000</td>\n",
       "      <td>1.000000</td>\n",
       "      <td>1.000000</td>\n",
       "      <td>...</td>\n",
       "      <td>1.000000</td>\n",
       "      <td>0.000000</td>\n",
       "      <td>2.000000</td>\n",
       "      <td>0.000000</td>\n",
       "      <td>0.000000</td>\n",
       "      <td>0.000000</td>\n",
       "      <td>0.000000</td>\n",
       "      <td>8.000000</td>\n",
       "      <td>5.000000</td>\n",
       "      <td>7.000000</td>\n",
       "    </tr>\n",
       "    <tr>\n",
       "      <th>75%</th>\n",
       "      <td>0.000000</td>\n",
       "      <td>1.000000</td>\n",
       "      <td>1.000000</td>\n",
       "      <td>1.000000</td>\n",
       "      <td>31.000000</td>\n",
       "      <td>1.000000</td>\n",
       "      <td>0.000000</td>\n",
       "      <td>0.000000</td>\n",
       "      <td>1.000000</td>\n",
       "      <td>1.000000</td>\n",
       "      <td>...</td>\n",
       "      <td>1.000000</td>\n",
       "      <td>0.000000</td>\n",
       "      <td>3.000000</td>\n",
       "      <td>2.000000</td>\n",
       "      <td>3.000000</td>\n",
       "      <td>0.000000</td>\n",
       "      <td>1.000000</td>\n",
       "      <td>10.000000</td>\n",
       "      <td>6.000000</td>\n",
       "      <td>8.000000</td>\n",
       "    </tr>\n",
       "    <tr>\n",
       "      <th>max</th>\n",
       "      <td>2.000000</td>\n",
       "      <td>1.000000</td>\n",
       "      <td>1.000000</td>\n",
       "      <td>1.000000</td>\n",
       "      <td>98.000000</td>\n",
       "      <td>1.000000</td>\n",
       "      <td>1.000000</td>\n",
       "      <td>1.000000</td>\n",
       "      <td>1.000000</td>\n",
       "      <td>1.000000</td>\n",
       "      <td>...</td>\n",
       "      <td>1.000000</td>\n",
       "      <td>1.000000</td>\n",
       "      <td>5.000000</td>\n",
       "      <td>30.000000</td>\n",
       "      <td>30.000000</td>\n",
       "      <td>1.000000</td>\n",
       "      <td>1.000000</td>\n",
       "      <td>13.000000</td>\n",
       "      <td>6.000000</td>\n",
       "      <td>8.000000</td>\n",
       "    </tr>\n",
       "  </tbody>\n",
       "</table>\n",
       "<p>8 rows × 22 columns</p>\n",
       "</div>"
      ],
      "text/plain": [
       "           Diabetico       Iperteso    Colesterolo  ControlloColesterolo   \n",
       "count  190260.000000  190260.000000  190260.000000         190260.000000  \\\n",
       "mean        0.297246       0.428188       0.423820              0.962725   \n",
       "std         0.698364       0.494817       0.494164              0.189436   \n",
       "min         0.000000       0.000000       0.000000              0.000000   \n",
       "25%         0.000000       0.000000       0.000000              1.000000   \n",
       "50%         0.000000       0.000000       0.000000              1.000000   \n",
       "75%         0.000000       1.000000       1.000000              1.000000   \n",
       "max         2.000000       1.000000       1.000000              1.000000   \n",
       "\n",
       "                 BMI       Fumatore        Infarto  ProblemiCardiaci   \n",
       "count  190260.000000  190260.000000  190260.000000     190260.000000  \\\n",
       "mean       28.382619       0.443220       0.040597          0.094718   \n",
       "std         6.608072       0.496767       0.197355          0.292825   \n",
       "min        12.000000       0.000000       0.000000          0.000000   \n",
       "25%        24.000000       0.000000       0.000000          0.000000   \n",
       "50%        27.000000       0.000000       0.000000          0.000000   \n",
       "75%        31.000000       1.000000       0.000000          0.000000   \n",
       "max        98.000000       1.000000       1.000000          1.000000   \n",
       "\n",
       "       AttivitàFisica         Fruits  ...  AnyHealthcare    NoDocbcCost   \n",
       "count   190260.000000  190260.000000  ...  190260.000000  190260.000000  \\\n",
       "mean         0.757011       0.634831  ...       0.951083       0.084248   \n",
       "std          0.428889       0.481479  ...       0.215696       0.277760   \n",
       "min          0.000000       0.000000  ...       0.000000       0.000000   \n",
       "25%          1.000000       0.000000  ...       1.000000       0.000000   \n",
       "50%          1.000000       1.000000  ...       1.000000       0.000000   \n",
       "75%          1.000000       1.000000  ...       1.000000       0.000000   \n",
       "max          1.000000       1.000000  ...       1.000000       1.000000   \n",
       "\n",
       "       SaluteGenerale  SaluteMentale   SaluteFisica  DifficolàSportiva   \n",
       "count   190260.000000  190260.000000  190260.000000      190260.000000  \\\n",
       "mean         2.513024       3.175512       4.244176           0.168427   \n",
       "std          1.068012       7.401539       8.722217           0.374246   \n",
       "min          1.000000       0.000000       0.000000           0.000000   \n",
       "25%          2.000000       0.000000       0.000000           0.000000   \n",
       "50%          2.000000       0.000000       0.000000           0.000000   \n",
       "75%          3.000000       2.000000       3.000000           0.000000   \n",
       "max          5.000000      30.000000      30.000000           1.000000   \n",
       "\n",
       "                 Sex            Age      Education         Income  \n",
       "count  190260.000000  190260.000000  190260.000000  190260.000000  \n",
       "mean        0.440234       8.028414       5.050215       6.050872  \n",
       "std         0.496417       3.053777       0.986041       2.071185  \n",
       "min         0.000000       1.000000       1.000000       1.000000  \n",
       "25%         0.000000       6.000000       4.000000       5.000000  \n",
       "50%         0.000000       8.000000       5.000000       7.000000  \n",
       "75%         1.000000      10.000000       6.000000       8.000000  \n",
       "max         1.000000      13.000000       6.000000       8.000000  \n",
       "\n",
       "[8 rows x 22 columns]"
      ]
     },
     "execution_count": 11,
     "metadata": {},
     "output_type": "execute_result"
    }
   ],
   "source": [
    "trainTest.describe()"
   ]
  },
  {
   "cell_type": "code",
   "execution_count": 12,
   "metadata": {},
   "outputs": [
    {
     "data": {
      "text/html": [
       "<div>\n",
       "<style scoped>\n",
       "    .dataframe tbody tr th:only-of-type {\n",
       "        vertical-align: middle;\n",
       "    }\n",
       "\n",
       "    .dataframe tbody tr th {\n",
       "        vertical-align: top;\n",
       "    }\n",
       "\n",
       "    .dataframe thead th {\n",
       "        text-align: right;\n",
       "    }\n",
       "</style>\n",
       "<table border=\"1\" class=\"dataframe\">\n",
       "  <thead>\n",
       "    <tr style=\"text-align: right;\">\n",
       "      <th></th>\n",
       "      <th>Sex</th>\n",
       "      <th>Diabetico</th>\n",
       "    </tr>\n",
       "  </thead>\n",
       "  <tbody>\n",
       "    <tr>\n",
       "      <th>1</th>\n",
       "      <td>1.0</td>\n",
       "      <td>0.321756</td>\n",
       "    </tr>\n",
       "    <tr>\n",
       "      <th>0</th>\n",
       "      <td>0.0</td>\n",
       "      <td>0.277969</td>\n",
       "    </tr>\n",
       "  </tbody>\n",
       "</table>\n",
       "</div>"
      ],
      "text/plain": [
       "   Sex  Diabetico\n",
       "1  1.0   0.321756\n",
       "0  0.0   0.277969"
      ]
     },
     "execution_count": 12,
     "metadata": {},
     "output_type": "execute_result"
    }
   ],
   "source": [
    "trainTest[['Sex', 'Diabetico']].groupby(['Sex'], as_index=False).mean().sort_values(by='Diabetico', ascending=False)"
   ]
  },
  {
   "cell_type": "code",
   "execution_count": 13,
   "metadata": {},
   "outputs": [
    {
     "data": {
      "text/html": [
       "<div>\n",
       "<style scoped>\n",
       "    .dataframe tbody tr th:only-of-type {\n",
       "        vertical-align: middle;\n",
       "    }\n",
       "\n",
       "    .dataframe tbody tr th {\n",
       "        vertical-align: top;\n",
       "    }\n",
       "\n",
       "    .dataframe thead th {\n",
       "        text-align: right;\n",
       "    }\n",
       "</style>\n",
       "<table border=\"1\" class=\"dataframe\">\n",
       "  <thead>\n",
       "    <tr style=\"text-align: right;\">\n",
       "      <th></th>\n",
       "      <th>Iperteso</th>\n",
       "      <th>Diabetico</th>\n",
       "    </tr>\n",
       "  </thead>\n",
       "  <tbody>\n",
       "    <tr>\n",
       "      <th>1</th>\n",
       "      <td>1.0</td>\n",
       "      <td>0.517633</td>\n",
       "    </tr>\n",
       "    <tr>\n",
       "      <th>0</th>\n",
       "      <td>0.0</td>\n",
       "      <td>0.132214</td>\n",
       "    </tr>\n",
       "  </tbody>\n",
       "</table>\n",
       "</div>"
      ],
      "text/plain": [
       "   Iperteso  Diabetico\n",
       "1       1.0   0.517633\n",
       "0       0.0   0.132214"
      ]
     },
     "execution_count": 13,
     "metadata": {},
     "output_type": "execute_result"
    }
   ],
   "source": [
    "trainTest[['Iperteso', 'Diabetico']].groupby(['Iperteso'], as_index=False).mean().sort_values(by='Diabetico', ascending=False)"
   ]
  },
  {
   "cell_type": "code",
   "execution_count": 14,
   "metadata": {},
   "outputs": [
    {
     "data": {
      "text/html": [
       "<div>\n",
       "<style scoped>\n",
       "    .dataframe tbody tr th:only-of-type {\n",
       "        vertical-align: middle;\n",
       "    }\n",
       "\n",
       "    .dataframe tbody tr th {\n",
       "        vertical-align: top;\n",
       "    }\n",
       "\n",
       "    .dataframe thead th {\n",
       "        text-align: right;\n",
       "    }\n",
       "</style>\n",
       "<table border=\"1\" class=\"dataframe\">\n",
       "  <thead>\n",
       "    <tr style=\"text-align: right;\">\n",
       "      <th></th>\n",
       "      <th>Colesterolo</th>\n",
       "      <th>Diabetico</th>\n",
       "    </tr>\n",
       "  </thead>\n",
       "  <tbody>\n",
       "    <tr>\n",
       "      <th>1</th>\n",
       "      <td>1.0</td>\n",
       "      <td>0.467744</td>\n",
       "    </tr>\n",
       "    <tr>\n",
       "      <th>0</th>\n",
       "      <td>0.0</td>\n",
       "      <td>0.171833</td>\n",
       "    </tr>\n",
       "  </tbody>\n",
       "</table>\n",
       "</div>"
      ],
      "text/plain": [
       "   Colesterolo  Diabetico\n",
       "1          1.0   0.467744\n",
       "0          0.0   0.171833"
      ]
     },
     "execution_count": 14,
     "metadata": {},
     "output_type": "execute_result"
    }
   ],
   "source": [
    "trainTest[['Colesterolo', 'Diabetico']].groupby(['Colesterolo'], as_index=False).mean().sort_values(by='Diabetico', ascending=False)"
   ]
  },
  {
   "cell_type": "code",
   "execution_count": 15,
   "metadata": {},
   "outputs": [
    {
     "data": {
      "text/html": [
       "<div>\n",
       "<style scoped>\n",
       "    .dataframe tbody tr th:only-of-type {\n",
       "        vertical-align: middle;\n",
       "    }\n",
       "\n",
       "    .dataframe tbody tr th {\n",
       "        vertical-align: top;\n",
       "    }\n",
       "\n",
       "    .dataframe thead th {\n",
       "        text-align: right;\n",
       "    }\n",
       "</style>\n",
       "<table border=\"1\" class=\"dataframe\">\n",
       "  <thead>\n",
       "    <tr style=\"text-align: right;\">\n",
       "      <th></th>\n",
       "      <th>Age</th>\n",
       "      <th>Diabetico</th>\n",
       "    </tr>\n",
       "  </thead>\n",
       "  <tbody>\n",
       "    <tr>\n",
       "      <th>10</th>\n",
       "      <td>11.0</td>\n",
       "      <td>0.462771</td>\n",
       "    </tr>\n",
       "    <tr>\n",
       "      <th>11</th>\n",
       "      <td>12.0</td>\n",
       "      <td>0.452947</td>\n",
       "    </tr>\n",
       "    <tr>\n",
       "      <th>9</th>\n",
       "      <td>10.0</td>\n",
       "      <td>0.430762</td>\n",
       "    </tr>\n",
       "    <tr>\n",
       "      <th>12</th>\n",
       "      <td>13.0</td>\n",
       "      <td>0.390836</td>\n",
       "    </tr>\n",
       "    <tr>\n",
       "      <th>8</th>\n",
       "      <td>9.0</td>\n",
       "      <td>0.365079</td>\n",
       "    </tr>\n",
       "    <tr>\n",
       "      <th>7</th>\n",
       "      <td>8.0</td>\n",
       "      <td>0.293066</td>\n",
       "    </tr>\n",
       "    <tr>\n",
       "      <th>6</th>\n",
       "      <td>7.0</td>\n",
       "      <td>0.256200</td>\n",
       "    </tr>\n",
       "    <tr>\n",
       "      <th>5</th>\n",
       "      <td>6.0</td>\n",
       "      <td>0.193464</td>\n",
       "    </tr>\n",
       "    <tr>\n",
       "      <th>4</th>\n",
       "      <td>5.0</td>\n",
       "      <td>0.141727</td>\n",
       "    </tr>\n",
       "    <tr>\n",
       "      <th>3</th>\n",
       "      <td>4.0</td>\n",
       "      <td>0.102045</td>\n",
       "    </tr>\n",
       "    <tr>\n",
       "      <th>2</th>\n",
       "      <td>3.0</td>\n",
       "      <td>0.062214</td>\n",
       "    </tr>\n",
       "    <tr>\n",
       "      <th>1</th>\n",
       "      <td>2.0</td>\n",
       "      <td>0.044166</td>\n",
       "    </tr>\n",
       "    <tr>\n",
       "      <th>0</th>\n",
       "      <td>1.0</td>\n",
       "      <td>0.032273</td>\n",
       "    </tr>\n",
       "  </tbody>\n",
       "</table>\n",
       "</div>"
      ],
      "text/plain": [
       "     Age  Diabetico\n",
       "10  11.0   0.462771\n",
       "11  12.0   0.452947\n",
       "9   10.0   0.430762\n",
       "12  13.0   0.390836\n",
       "8    9.0   0.365079\n",
       "7    8.0   0.293066\n",
       "6    7.0   0.256200\n",
       "5    6.0   0.193464\n",
       "4    5.0   0.141727\n",
       "3    4.0   0.102045\n",
       "2    3.0   0.062214\n",
       "1    2.0   0.044166\n",
       "0    1.0   0.032273"
      ]
     },
     "execution_count": 15,
     "metadata": {},
     "output_type": "execute_result"
    }
   ],
   "source": [
    "trainTest[['Age', 'Diabetico']].groupby(['Age'], as_index=False).mean().sort_values(by='Diabetico', ascending=False)"
   ]
  },
  {
   "cell_type": "code",
   "execution_count": 16,
   "metadata": {},
   "outputs": [
    {
     "data": {
      "text/html": [
       "<div>\n",
       "<style scoped>\n",
       "    .dataframe tbody tr th:only-of-type {\n",
       "        vertical-align: middle;\n",
       "    }\n",
       "\n",
       "    .dataframe tbody tr th {\n",
       "        vertical-align: top;\n",
       "    }\n",
       "\n",
       "    .dataframe thead th {\n",
       "        text-align: right;\n",
       "    }\n",
       "</style>\n",
       "<table border=\"1\" class=\"dataframe\">\n",
       "  <thead>\n",
       "    <tr style=\"text-align: right;\">\n",
       "      <th></th>\n",
       "      <th>DifficolàSportiva</th>\n",
       "      <th>Diabetico</th>\n",
       "    </tr>\n",
       "  </thead>\n",
       "  <tbody>\n",
       "    <tr>\n",
       "      <th>1</th>\n",
       "      <td>1.0</td>\n",
       "      <td>0.644656</td>\n",
       "    </tr>\n",
       "    <tr>\n",
       "      <th>0</th>\n",
       "      <td>0.0</td>\n",
       "      <td>0.226881</td>\n",
       "    </tr>\n",
       "  </tbody>\n",
       "</table>\n",
       "</div>"
      ],
      "text/plain": [
       "   DifficolàSportiva  Diabetico\n",
       "1                1.0   0.644656\n",
       "0                0.0   0.226881"
      ]
     },
     "execution_count": 16,
     "metadata": {},
     "output_type": "execute_result"
    }
   ],
   "source": [
    "trainTest[['DifficolàSportiva', 'Diabetico']].groupby(['DifficolàSportiva'], as_index=False).mean().sort_values(by='Diabetico', ascending=False)"
   ]
  },
  {
   "cell_type": "code",
   "execution_count": 13,
   "metadata": {},
   "outputs": [
    {
     "data": {
      "text/plain": [
       "<seaborn.axisgrid.FacetGrid at 0x14779c310>"
      ]
     },
     "execution_count": 13,
     "metadata": {},
     "output_type": "execute_result"
    },
    {
     "data": {
      "image/png": "[encoded data removed]",
      "text/plain": [
       "<Figure size 1500x500 with 3 Axes>"
      ]
     },
     "metadata": {},
     "output_type": "display_data"
    }
   ],
   "source": [
    "g = sns.FacetGrid(trainTest, col='Diabetico', height = 5)\n",
    "g.map(plt.hist, 'Age', bins=13)"
   ]
  },
  {
   "cell_type": "code",
   "execution_count": 14,
   "metadata": {},
   "outputs": [
    {
     "data": {
      "text/html": [
       "<div>\n",
       "<style scoped>\n",
       "    .dataframe tbody tr th:only-of-type {\n",
       "        vertical-align: middle;\n",
       "    }\n",
       "\n",
       "    .dataframe tbody tr th {\n",
       "        vertical-align: top;\n",
       "    }\n",
       "\n",
       "    .dataframe thead th {\n",
       "        text-align: right;\n",
       "    }\n",
       "</style>\n",
       "<table border=\"1\" class=\"dataframe\">\n",
       "  <thead>\n",
       "    <tr style=\"text-align: right;\">\n",
       "      <th></th>\n",
       "      <th>Fumatore</th>\n",
       "      <th>Diabetico</th>\n",
       "    </tr>\n",
       "  </thead>\n",
       "  <tbody>\n",
       "    <tr>\n",
       "      <th>1</th>\n",
       "      <td>1.0</td>\n",
       "      <td>0.347488</td>\n",
       "    </tr>\n",
       "    <tr>\n",
       "      <th>0</th>\n",
       "      <td>0.0</td>\n",
       "      <td>0.258929</td>\n",
       "    </tr>\n",
       "  </tbody>\n",
       "</table>\n",
       "</div>"
      ],
      "text/plain": [
       "   Fumatore  Diabetico\n",
       "1       1.0   0.347488\n",
       "0       0.0   0.258929"
      ]
     },
     "execution_count": 14,
     "metadata": {},
     "output_type": "execute_result"
    }
   ],
   "source": [
    "trainTest[['Fumatore', 'Diabetico']].groupby(['Fumatore'], as_index=False).mean().sort_values(by='Diabetico', ascending=False)"
   ]
  },
  {
   "cell_type": "code",
   "execution_count": 17,
   "metadata": {},
   "outputs": [
    {
     "data": {
      "image/png": "[encoded data removed]",
      "text/plain": [
       "<Figure size 1451.11x600 with 6 Axes>"
      ]
     },
     "metadata": {},
     "output_type": "display_data"
    }
   ],
   "source": [
    "grid = sns.FacetGrid(trainTest, col='Diabetico', row='Fumatore',  aspect=1.6) #size=2.2,\n",
    "grid.map(plt.hist, 'Age', alpha=.5, bins=13)\n",
    "grid.add_legend();"
   ]
  },
  {
   "cell_type": "code",
   "execution_count": 16,
   "metadata": {},
   "outputs": [
    {
     "name": "stderr",
     "output_type": "stream",
     "text": [
      "/Users/alessandro/.pyenv/versions/3.10.4/lib/python3.10/site-packages/seaborn/axisgrid.py:712: UserWarning: Using the pointplot function without specifying `order` is likely to produce an incorrect plot.\n",
      "  warnings.warn(warning)\n",
      "/Users/alessandro/.pyenv/versions/3.10.4/lib/python3.10/site-packages/seaborn/axisgrid.py:717: UserWarning: Using the pointplot function without specifying `hue_order` is likely to produce an incorrect plot.\n",
      "  warnings.warn(warning)\n"
     ]
    },
    {
     "data": {
      "text/plain": [
       "<seaborn.axisgrid.FacetGrid at 0x147e51240>"
      ]
     },
     "execution_count": 16,
     "metadata": {},
     "output_type": "execute_result"
    },
    {
     "data": {
      "image/png": "[encoded data removed]",
      "text/plain": [
       "<Figure size 712x800 with 2 Axes>"
      ]
     },
     "metadata": {},
     "output_type": "display_data"
    }
   ],
   "source": [
    "grid = sns.FacetGrid(trainTest, row='Sex', height=4, aspect=1.6)\n",
    "grid.map(sns.pointplot, 'Age', 'Diabetico', 'Fumatore', palette='deep')\n",
    "grid.add_legend()"
   ]
  },
  {
   "cell_type": "code",
   "execution_count": 18,
   "metadata": {},
   "outputs": [
    {
     "data": {
      "text/plain": [
       "((190260, 21), (190260,), (63420, 21))"
      ]
     },
     "execution_count": 18,
     "metadata": {},
     "output_type": "execute_result"
    }
   ],
   "source": [
    "Y_test = TestSet[\"Diabetico\"]\n",
    "Y_train = trainTest[\"Diabetico\"]\n",
    "X_train = trainTest.drop(\"Diabetico\", axis=1)\n",
    "X_test  = TestSet.drop([\"Diabetico\"], axis=1,errors='ignore').copy()\n",
    "X_train.shape, Y_train.shape, X_test.shape"
   ]
  },
  {
   "cell_type": "code",
   "execution_count": 19,
   "metadata": {},
   "outputs": [
    {
     "name": "stderr",
     "output_type": "stream",
     "text": [
      "/Users/alessandro/.pyenv/versions/3.10.4/lib/python3.10/site-packages/sklearn/linear_model/_logistic.py:458: ConvergenceWarning: lbfgs failed to converge (status=1):\n",
      "STOP: TOTAL NO. of ITERATIONS REACHED LIMIT.\n",
      "\n",
      "Increase the number of iterations (max_iter) or scale the data as shown in:\n",
      "    https://scikit-learn.org/stable/modules/preprocessing.html\n",
      "Please also refer to the documentation for alternative solver options:\n",
      "    https://scikit-learn.org/stable/modules/linear_model.html#logistic-regression\n",
      "  n_iter_i = _check_optimize_result(\n"
     ]
    },
    {
     "data": {
      "text/plain": [
       "84.47"
      ]
     },
     "execution_count": 19,
     "metadata": {},
     "output_type": "execute_result"
    }
   ],
   "source": [
    "regressioneL = LogisticRegression()\n",
    "regressioneL.fit(X_train, Y_train)\n",
    "Y_pred = regressioneL.predict(X_test)\n",
    "accuratezzaReg = round(regressioneL.score(X_train, Y_train) * 100, 2)\n",
    "accuratezzaReg = round(regressioneL.score(X_test, Y_test) * 100, 2)\n",
    "accuratezzaReg"
   ]
  },
  {
   "cell_type": "code",
   "execution_count": 20,
   "metadata": {},
   "outputs": [
    {
     "data": {
      "text/html": [
       "<div>\n",
       "<style scoped>\n",
       "    .dataframe tbody tr th:only-of-type {\n",
       "        vertical-align: middle;\n",
       "    }\n",
       "\n",
       "    .dataframe tbody tr th {\n",
       "        vertical-align: top;\n",
       "    }\n",
       "\n",
       "    .dataframe thead th {\n",
       "        text-align: right;\n",
       "    }\n",
       "</style>\n",
       "<table border=\"1\" class=\"dataframe\">\n",
       "  <thead>\n",
       "    <tr style=\"text-align: right;\">\n",
       "      <th></th>\n",
       "      <th>Risultato</th>\n",
       "      <th>Correlazione</th>\n",
       "    </tr>\n",
       "  </thead>\n",
       "  <tbody>\n",
       "    <tr>\n",
       "      <th>2</th>\n",
       "      <td>ControlloColesterolo</td>\n",
       "      <td>0.651243</td>\n",
       "    </tr>\n",
       "    <tr>\n",
       "      <th>11</th>\n",
       "      <td>AnyHealthcare</td>\n",
       "      <td>0.555313</td>\n",
       "    </tr>\n",
       "    <tr>\n",
       "      <th>10</th>\n",
       "      <td>ConsumoAlcol</td>\n",
       "      <td>0.492938</td>\n",
       "    </tr>\n",
       "    <tr>\n",
       "      <th>12</th>\n",
       "      <td>NoDocbcCost</td>\n",
       "      <td>0.239576</td>\n",
       "    </tr>\n",
       "    <tr>\n",
       "      <th>19</th>\n",
       "      <td>Education</td>\n",
       "      <td>0.108183</td>\n",
       "    </tr>\n",
       "    <tr>\n",
       "      <th>9</th>\n",
       "      <td>Veggies</td>\n",
       "      <td>0.093048</td>\n",
       "    </tr>\n",
       "    <tr>\n",
       "      <th>7</th>\n",
       "      <td>AttivitàFisica</td>\n",
       "      <td>0.068877</td>\n",
       "    </tr>\n",
       "    <tr>\n",
       "      <th>4</th>\n",
       "      <td>Fumatore</td>\n",
       "      <td>0.060077</td>\n",
       "    </tr>\n",
       "    <tr>\n",
       "      <th>20</th>\n",
       "      <td>Income</td>\n",
       "      <td>0.044973</td>\n",
       "    </tr>\n",
       "    <tr>\n",
       "      <th>8</th>\n",
       "      <td>Fruits</td>\n",
       "      <td>0.040178</td>\n",
       "    </tr>\n",
       "    <tr>\n",
       "      <th>15</th>\n",
       "      <td>SaluteFisica</td>\n",
       "      <td>0.003827</td>\n",
       "    </tr>\n",
       "    <tr>\n",
       "      <th>14</th>\n",
       "      <td>SaluteMentale</td>\n",
       "      <td>-0.000843</td>\n",
       "    </tr>\n",
       "    <tr>\n",
       "      <th>3</th>\n",
       "      <td>BMI</td>\n",
       "      <td>-0.019379</td>\n",
       "    </tr>\n",
       "    <tr>\n",
       "      <th>5</th>\n",
       "      <td>Infarto</td>\n",
       "      <td>-0.050417</td>\n",
       "    </tr>\n",
       "    <tr>\n",
       "      <th>18</th>\n",
       "      <td>Age</td>\n",
       "      <td>-0.055389</td>\n",
       "    </tr>\n",
       "    <tr>\n",
       "      <th>17</th>\n",
       "      <td>Sex</td>\n",
       "      <td>-0.064246</td>\n",
       "    </tr>\n",
       "    <tr>\n",
       "      <th>16</th>\n",
       "      <td>DifficolàSportiva</td>\n",
       "      <td>-0.144885</td>\n",
       "    </tr>\n",
       "    <tr>\n",
       "      <th>13</th>\n",
       "      <td>SaluteGenerale</td>\n",
       "      <td>-0.181828</td>\n",
       "    </tr>\n",
       "    <tr>\n",
       "      <th>6</th>\n",
       "      <td>ProblemiCardiaci</td>\n",
       "      <td>-0.190377</td>\n",
       "    </tr>\n",
       "    <tr>\n",
       "      <th>1</th>\n",
       "      <td>Colesterolo</td>\n",
       "      <td>-0.361960</td>\n",
       "    </tr>\n",
       "    <tr>\n",
       "      <th>0</th>\n",
       "      <td>Iperteso</td>\n",
       "      <td>-0.446559</td>\n",
       "    </tr>\n",
       "  </tbody>\n",
       "</table>\n",
       "</div>"
      ],
      "text/plain": [
       "               Risultato  Correlazione\n",
       "2   ControlloColesterolo      0.651243\n",
       "11         AnyHealthcare      0.555313\n",
       "10          ConsumoAlcol      0.492938\n",
       "12           NoDocbcCost      0.239576\n",
       "19             Education      0.108183\n",
       "9                Veggies      0.093048\n",
       "7         AttivitàFisica      0.068877\n",
       "4               Fumatore      0.060077\n",
       "20                Income      0.044973\n",
       "8                 Fruits      0.040178\n",
       "15          SaluteFisica      0.003827\n",
       "14         SaluteMentale     -0.000843\n",
       "3                    BMI     -0.019379\n",
       "5                Infarto     -0.050417\n",
       "18                   Age     -0.055389\n",
       "17                   Sex     -0.064246\n",
       "16     DifficolàSportiva     -0.144885\n",
       "13        SaluteGenerale     -0.181828\n",
       "6       ProblemiCardiaci     -0.190377\n",
       "1            Colesterolo     -0.361960\n",
       "0               Iperteso     -0.446559"
      ]
     },
     "execution_count": 20,
     "metadata": {},
     "output_type": "execute_result"
    }
   ],
   "source": [
    "correlazione = pd.DataFrame(trainTest.columns.delete(0))\n",
    "correlazione.columns = ['Risultato']\n",
    "correlazione[\"Correlazione\"] = pd.Series(regressioneL.coef_[0])\n",
    "\n",
    "correlazione.sort_values(by='Correlazione', ascending=False)"
   ]
  },
  {
   "cell_type": "code",
   "execution_count": 24,
   "metadata": {},
   "outputs": [
    {
     "data": {
      "text/plain": [
       "75.59"
      ]
     },
     "execution_count": 24,
     "metadata": {},
     "output_type": "execute_result"
    }
   ],
   "source": [
    "gaussian = GaussianNB()\n",
    "gaussian.fit(X_train, Y_train)\n",
    "Y_pred = gaussian.predict(X_test)\n",
    "accuratezzaGauss = round(gaussian.score(X_train, Y_train) * 100, 2)\n",
    "accuratezzaGauss"
   ]
  },
  {
   "cell_type": "code",
   "execution_count": 25,
   "metadata": {},
   "outputs": [
    {
     "data": {
      "text/plain": [
       "84.2"
      ]
     },
     "execution_count": 25,
     "metadata": {},
     "output_type": "execute_result"
    }
   ],
   "source": [
    "perceptron = Perceptron()\n",
    "perceptron.fit(X_train, Y_train)\n",
    "Y_pred = perceptron.predict(X_test)\n",
    "accuratezzaPerceptron = round(perceptron.score(X_train, Y_train) * 100, 2)\n",
    "accuratezzaPerceptron"
   ]
  },
  {
   "cell_type": "code",
   "execution_count": 26,
   "metadata": {},
   "outputs": [
    {
     "data": {
      "text/plain": [
       "84.19"
      ]
     },
     "execution_count": 26,
     "metadata": {},
     "output_type": "execute_result"
    }
   ],
   "source": [
    "sgdClassifier = SGDClassifier()\n",
    "sgdClassifier.fit(X_train, Y_train)\n",
    "Y_pred = sgdClassifier.predict(X_test)\n",
    "accuratezzaSGD = round(sgdClassifier.score(X_train, Y_train) * 100, 2)\n",
    "accuratezzaSGD"
   ]
  },
  {
   "cell_type": "code",
   "execution_count": 21,
   "metadata": {},
   "outputs": [
    {
     "data": {
      "text/plain": [
       "99.36"
      ]
     },
     "execution_count": 21,
     "metadata": {},
     "output_type": "execute_result"
    }
   ],
   "source": [
    "DecisionTreeClass = DecisionTreeClassifier()\n",
    "DecisionTreeClass.fit(X_train, Y_train)\n",
    "Y_pred = DecisionTreeClass.predict(X_test)\n",
    "accuratezzaDecTree = round(DecisionTreeClass.score(X_train, Y_train) * 100, 2)\n",
    "accuratezzaDecTree"
   ]
  },
  {
   "cell_type": "code",
   "execution_count": 28,
   "metadata": {},
   "outputs": [
    {
     "data": {
      "text/plain": [
       "99.36"
      ]
     },
     "execution_count": 28,
     "metadata": {},
     "output_type": "execute_result"
    }
   ],
   "source": [
    "RandomForestClass = RandomForestClassifier(n_estimators=100)\n",
    "RandomForestClass.fit(X_train, Y_train)\n",
    "Y_pred = RandomForestClass.predict(X_test)\n",
    "RandomForestClass.score(X_train, Y_train)\n",
    "accuratezzaRand = round(RandomForestClass.score(X_train, Y_train) * 100, 2)\n",
    "accuratezzaRand"
   ]
  },
  {
   "cell_type": "code",
   "execution_count": 29,
   "metadata": {},
   "outputs": [
    {
     "data": {
      "text/html": [
       "<div>\n",
       "<style scoped>\n",
       "    .dataframe tbody tr th:only-of-type {\n",
       "        vertical-align: middle;\n",
       "    }\n",
       "\n",
       "    .dataframe tbody tr th {\n",
       "        vertical-align: top;\n",
       "    }\n",
       "\n",
       "    .dataframe thead th {\n",
       "        text-align: right;\n",
       "    }\n",
       "</style>\n",
       "<table border=\"1\" class=\"dataframe\">\n",
       "  <thead>\n",
       "    <tr style=\"text-align: right;\">\n",
       "      <th></th>\n",
       "      <th>Modelli</th>\n",
       "      <th>Score</th>\n",
       "    </tr>\n",
       "  </thead>\n",
       "  <tbody>\n",
       "    <tr>\n",
       "      <th>5</th>\n",
       "      <td>Decision Tree</td>\n",
       "      <td>99.37</td>\n",
       "    </tr>\n",
       "    <tr>\n",
       "      <th>1</th>\n",
       "      <td>Random Forest</td>\n",
       "      <td>99.36</td>\n",
       "    </tr>\n",
       "    <tr>\n",
       "      <th>0</th>\n",
       "      <td>Logistic Regression</td>\n",
       "      <td>84.56</td>\n",
       "    </tr>\n",
       "    <tr>\n",
       "      <th>3</th>\n",
       "      <td>Perceptron</td>\n",
       "      <td>84.20</td>\n",
       "    </tr>\n",
       "    <tr>\n",
       "      <th>4</th>\n",
       "      <td>Stochastic Gradient Decent</td>\n",
       "      <td>84.19</td>\n",
       "    </tr>\n",
       "    <tr>\n",
       "      <th>2</th>\n",
       "      <td>Naive Bayes</td>\n",
       "      <td>75.59</td>\n",
       "    </tr>\n",
       "  </tbody>\n",
       "</table>\n",
       "</div>"
      ],
      "text/plain": [
       "                      Modelli  Score\n",
       "5               Decision Tree  99.37\n",
       "1               Random Forest  99.36\n",
       "0         Logistic Regression  84.56\n",
       "3                  Perceptron  84.20\n",
       "4  Stochastic Gradient Decent  84.19\n",
       "2                 Naive Bayes  75.59"
      ]
     },
     "execution_count": 29,
     "metadata": {},
     "output_type": "execute_result"
    }
   ],
   "source": [
    "modelli = pd.DataFrame({\n",
    "    'Modelli': ['Logistic Regression', \n",
    "              'Random Forest', 'Naive Bayes', 'Perceptron', \n",
    "              'Stochastic Gradient Decent', \n",
    "              'Decision Tree'],\n",
    "    'Score': [ accuratezzaReg, \n",
    "              accuratezzaRand, accuratezzaGauss, accuratezzaPerceptron, \n",
    "              accuratezzaSGD, accuratezzaDecTree]})\n",
    "modelli.sort_values(by='Score', ascending=False)"
   ]
  },
  {
   "cell_type": "code",
   "execution_count": 30,
   "metadata": {},
   "outputs": [
    {
     "data": {
      "text/plain": [
       "['accuratezzaReg.joblib']"
      ]
     },
     "execution_count": 30,
     "metadata": {},
     "output_type": "execute_result"
    }
   ],
   "source": [
    "from joblib import dump, load\n",
    "dump(accuratezzaReg, 'accuratezzaReg.joblib')"
   ]
  },
  {
   "cell_type": "code",
   "execution_count": 31,
   "metadata": {},
   "outputs": [
    {
     "data": {
      "text/plain": [
       "['accuratezzaGauss.joblib']"
      ]
     },
     "execution_count": 31,
     "metadata": {},
     "output_type": "execute_result"
    }
   ],
   "source": [
    "\n",
    "from joblib import dump, load\n",
    "dump(accuratezzaGauss, 'accuratezzaGauss.joblib')"
   ]
  },
  {
   "cell_type": "code",
   "execution_count": 32,
   "metadata": {},
   "outputs": [
    {
     "data": {
      "text/plain": [
       "['accuratezzaPerceptron.joblib']"
      ]
     },
     "execution_count": 32,
     "metadata": {},
     "output_type": "execute_result"
    }
   ],
   "source": [
    "from joblib import dump, load\n",
    "dump(accuratezzaPerceptron, 'accuratezzaPerceptron.joblib') "
   ]
  },
  {
   "cell_type": "code",
   "execution_count": 33,
   "metadata": {},
   "outputs": [
    {
     "data": {
      "text/plain": [
       "['accuratezzaSGD.joblib']"
      ]
     },
     "execution_count": 33,
     "metadata": {},
     "output_type": "execute_result"
    }
   ],
   "source": [
    "from joblib import dump, load\n",
    "dump(accuratezzaSGD, 'accuratezzaSGD.joblib')"
   ]
  },
  {
   "cell_type": "code",
   "execution_count": 30,
   "metadata": {},
   "outputs": [
    {
     "data": {
      "text/plain": [
       "['DecTree.joblib']"
      ]
     },
     "execution_count": 30,
     "metadata": {},
     "output_type": "execute_result"
    }
   ],
   "source": [
    "from joblib import dump, load\n",
    "dump(DecisionTreeClass, 'DecTree.joblib')"
   ]
  },
  {
   "cell_type": "code",
   "execution_count": 35,
   "metadata": {},
   "outputs": [
    {
     "data": {
      "text/plain": [
       "['accuratezzaRand.joblib']"
      ]
     },
     "execution_count": 35,
     "metadata": {},
     "output_type": "execute_result"
    }
   ],
   "source": [
    "\n",
    "from joblib import dump, load\n",
    "dump(accuratezzaRand, 'accuratezzaRand.joblib')"
   ]
  },
  {
   "cell_type": "code",
   "execution_count": 54,
   "metadata": {},
   "outputs": [
    {
     "name": "stdout",
     "output_type": "stream",
     "text": [
      "        Iperteso  Colesterolo  ControlloColesterolo   BMI  Fumatore  Infarto   \n",
      "11387        0.0          0.0                   1.0  26.0       1.0      0.0  \\\n",
      "16918        0.0          0.0                   1.0  21.0       0.0      0.0   \n",
      "201274       1.0          1.0                   1.0  35.0       1.0      1.0   \n",
      "101867       0.0          1.0                   1.0  25.0       1.0      0.0   \n",
      "145843       0.0          0.0                   1.0  22.0       1.0      0.0   \n",
      "103782       1.0          0.0                   1.0  38.0       1.0      0.0   \n",
      "\n",
      "        ProblemiCardiaci  AttivitàFisica  Fruits  Veggies  ...  AnyHealthcare   \n",
      "11387                0.0             1.0     0.0      1.0  ...            1.0  \\\n",
      "16918                0.0             1.0     1.0      1.0  ...            1.0   \n",
      "201274               0.0             0.0     0.0      0.0  ...            0.0   \n",
      "101867               0.0             1.0     1.0      1.0  ...            1.0   \n",
      "145843               0.0             1.0     1.0      1.0  ...            1.0   \n",
      "103782               0.0             1.0     1.0      1.0  ...            1.0   \n",
      "\n",
      "        NoDocbcCost  SaluteGenerale  SaluteMentale  SaluteFisica   \n",
      "11387           0.0             1.0            0.0           0.0  \\\n",
      "16918           0.0             1.0           10.0           0.0   \n",
      "201274          0.0             5.0            0.0          30.0   \n",
      "101867          0.0             2.0            0.0           0.0   \n",
      "145843          1.0             3.0            0.0           0.0   \n",
      "103782          0.0             3.0            0.0           0.0   \n",
      "\n",
      "        DifficolàSportiva  Sex  Age  Education  Income  \n",
      "11387                 0.0  1.0  8.0        5.0     7.0  \n",
      "16918                 0.0  1.0  1.0        6.0     8.0  \n",
      "201274                1.0  1.0  6.0        4.0     3.0  \n",
      "101867                0.0  0.0  9.0        4.0     8.0  \n",
      "145843                0.0  1.0  3.0        5.0     6.0  \n",
      "103782                0.0  1.0  9.0        4.0     2.0  \n",
      "\n",
      "[6 rows x 21 columns]\n"
     ]
    }
   ],
   "source": [
    "from joblib import dump, load\n",
    "sds = load('DecTree.joblib')"
   ]
  },
  {
   "cell_type": "code",
   "execution_count": null,
   "metadata": {},
   "outputs": [],
   "source": [
    "def getDataFromBot(datas):\n",
    "    dati = datas\n",
    "    df = pd.DataFrame({\n",
    "    'Iperteso':[datas[0]],\n",
    "    'Colesterolo':datas[1],\n",
    "    'ControlloColesterolo':datas[2],\n",
    "    'BMI':datas[3],\n",
    "    'Fumatore':datas[4],\n",
    "    'Infarto':datas[5],\n",
    "    'ProblemiCardiaci':datas[6],\n",
    "    'AttivitàFisica':datas[7],\n",
    "    'Fruits':datas[8],\n",
    "    'Veggies':datas[9],\n",
    "    'ConsumoAlcol':datas[10],\n",
    "    'AnyHealthcare':datas[11],\n",
    "    'NoDocbcCost':datas[12],\n",
    "    'SaluteGenerale':datas[13],\n",
    "    'SaluteMentale':datas[14],\n",
    "    'SaluteFisica':datas[15],\n",
    "    'DifficolàSportiva':datas[16],\n",
    "    'Sex':datas[17],\n",
    "    'Age':datas[18],\n",
    "    'Education':datas[19],\n",
    "    'Income':datas[20]\n",
    "})\n",
    "    return df\n",
    "\n",
    "\n",
    "    "
   ]
  },
  {
   "cell_type": "code",
   "execution_count": 6,
   "metadata": {},
   "outputs": [
    {
     "name": "stdout",
     "output_type": "stream",
     "text": [
      "   Iperteso  Colesterolo  ControlloColesterolo   BMI  Fumatore  Infarto   \n",
      "0       1.0          1.0                   1.0  27.0       1.0      0.0  \\\n",
      "\n",
      "   ProblemiCardiaci  AttivitàFisica  Fruits  Veggies  ...  AnyHealthcare   \n",
      "0               0.0             1.0     0.0      1.0  ...            1.0  \\\n",
      "\n",
      "   NoDocbcCost  SaluteGenerale  SaluteMentale  SaluteFisica   \n",
      "0          1.0             3.0            0.0           0.0  \\\n",
      "\n",
      "   DifficolàSportiva  Sex   Age  Education  Income  \n",
      "0                0.0  1.0  10.0        4.0     5.0  \n",
      "\n",
      "[1 rows x 21 columns]\n",
      "<class 'pandas.core.frame.DataFrame'>\n",
      "[2.]\n"
     ]
    }
   ],
   "source": [
    "from joblib import dump, load\n",
    "sds = load('DecTree.joblib')\n",
    "df = pd.DataFrame({\n",
    "    'Iperteso':[1.0],\n",
    "    'Colesterolo':1.0,\n",
    "    'ControlloColesterolo':1.0,\n",
    "    'BMI':27.0,\n",
    "    'Fumatore':1.0,\n",
    "    'Infarto':0.0,\n",
    "    'ProblemiCardiaci':0.0,\n",
    "    'AttivitàFisica':1.0,\n",
    "    'Fruits':0.0,\n",
    "    'Veggies':1.0,\n",
    "    'ConsumoAlcol':0.0,\n",
    "    'AnyHealthcare':1.0,\n",
    "    'NoDocbcCost':1.0,\n",
    "    'SaluteGenerale':3.0,\n",
    "    'SaluteMentale':0.0,\n",
    "    'SaluteFisica':0.0,\n",
    "    'DifficolàSportiva':0.0,\n",
    "    'Sex':1.0,\n",
    "    'Age':10.0,\n",
    "    'Education':4.0,\n",
    "    'Income':5.0\n",
    "})\n",
    "\n",
    "print(df)  \n",
    "print(type(df))\n",
    "pre = sds.predict(df)\n",
    "print(pre)"
   ]
  }
 ],
 "metadata": {
  "kernelspec": {
   "display_name": "Python 3",
   "language": "python",
   "name": "python3"
  },
  "language_info": {
   "codemirror_mode": {
    "name": "ipython",
    "version": 3
   },
   "file_extension": ".py",
   "mimetype": "text/x-python",
   "name": "python",
   "nbconvert_exporter": "python",
   "pygments_lexer": "ipython3",
   "version": "3.10.4"
  },
  "orig_nbformat": 4
 },
 "nbformat": 4,
 "nbformat_minor": 2
}
